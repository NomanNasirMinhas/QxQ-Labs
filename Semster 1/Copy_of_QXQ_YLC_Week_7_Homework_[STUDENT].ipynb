{
  "nbformat": 4,
  "nbformat_minor": 0,
  "metadata": {
    "colab": {
      "provenance": []
    },
    "kernelspec": {
      "name": "python3",
      "display_name": "Python 3"
    },
    "language_info": {
      "name": "python"
    }
  },
  "cells": [
    {
      "cell_type": "markdown",
      "source": [
        "# **Homework 7: Quantum Gates**\n",
        "---\n",
        "\n",
        "### **Description**\n",
        "In this week's homework, you will  apply quantum gates to a quantum circuit using cirq. You will start with reviewing lists, defining qubits and quantum circuits in cirq. Then you will dive into using single and multiple quantum gates. Primarily, you will be working with the X, H and Z gates for this assignment.\n",
        "\n",
        "<br>\n",
        "\n",
        "### **Homework Structure**\n",
        "**Part 1**: [Review](#p1)\n",
        "\n",
        "**Part 2**: [Quantum Circuits in Cirq](#p2)\n",
        "\n",
        "**Part 3**: [Multiple Gates](#p3)\n",
        "\n",
        "<br>\n",
        "\n",
        "\n",
        "### **Learning Objectives**\n",
        "By the end of this assignment, you will:\n",
        "1. Understand how to represent qubits and their states in Cirq.\n",
        "2. Recognize how to apply quantum gates in Cirq.\n",
        "3. Recognize how to create superposition in Cirq.\n",
        "\n",
        "<br>\n",
        "\n",
        "\n",
        "\n",
        "\n",
        "**Before starting, run the code below to import all necessary functions and libraries.**\n"
      ],
      "metadata": {
        "id": "eq-fObX9EBQg"
      }
    },
    {
      "cell_type": "code",
      "source": [
        "# @title\n",
        "!pip install cirq --quiet\n",
        "import cirq\n",
        "import cirq_web\n",
        "print(\"Libraries imported successfully!\")"
      ],
      "metadata": {
        "id": "gpEm1wV8oHt4",
        "colab": {
          "base_uri": "https://localhost:8080/"
        },
        "outputId": "796f287f-8f61-436e-974e-739ad1e82446",
        "cellView": "form"
      },
      "execution_count": null,
      "outputs": [
        {
          "output_type": "stream",
          "name": "stdout",
          "text": [
            "\u001b[2K     \u001b[90m━━━━━━━━━━━━━━━━━━━━━━━━━━━━━━━━━━━━━━━━\u001b[0m \u001b[32m1.8/1.8 MB\u001b[0m \u001b[31m25.1 MB/s\u001b[0m eta \u001b[36m0:00:00\u001b[0m\n",
            "\u001b[2K     \u001b[90m━━━━━━━━━━━━━━━━━━━━━━━━━━━━━━━━━━━━━━━━\u001b[0m \u001b[32m142.7/142.7 kB\u001b[0m \u001b[31m14.5 MB/s\u001b[0m eta \u001b[36m0:00:00\u001b[0m\n",
            "\u001b[2K     \u001b[90m━━━━━━━━━━━━━━━━━━━━━━━━━━━━━━━━━━━━━━━━\u001b[0m \u001b[32m579.1/579.1 kB\u001b[0m \u001b[31m30.1 MB/s\u001b[0m eta \u001b[36m0:00:00\u001b[0m\n",
            "\u001b[2K     \u001b[90m━━━━━━━━━━━━━━━━━━━━━━━━━━━━━━━━━━━━━━━━\u001b[0m \u001b[32m58.2/58.2 kB\u001b[0m \u001b[31m4.8 MB/s\u001b[0m eta \u001b[36m0:00:00\u001b[0m\n",
            "\u001b[2K     \u001b[90m━━━━━━━━━━━━━━━━━━━━━━━━━━━━━━━━━━━━━━━━\u001b[0m \u001b[32m66.5/66.5 kB\u001b[0m \u001b[31m7.7 MB/s\u001b[0m eta \u001b[36m0:00:00\u001b[0m\n",
            "\u001b[2K     \u001b[90m━━━━━━━━━━━━━━━━━━━━━━━━━━━━━━━━━━━━━━━━\u001b[0m \u001b[32m596.4/596.4 kB\u001b[0m \u001b[31m41.4 MB/s\u001b[0m eta \u001b[36m0:00:00\u001b[0m\n",
            "\u001b[2K     \u001b[90m━━━━━━━━━━━━━━━━━━━━━━━━━━━━━━━━━━━━━━━━\u001b[0m \u001b[32m221.0/221.0 kB\u001b[0m \u001b[31m20.6 MB/s\u001b[0m eta \u001b[36m0:00:00\u001b[0m\n",
            "\u001b[2K     \u001b[90m━━━━━━━━━━━━━━━━━━━━━━━━━━━━━━━━━━━━━━━━\u001b[0m \u001b[32m229.9/229.9 kB\u001b[0m \u001b[31m21.8 MB/s\u001b[0m eta \u001b[36m0:00:00\u001b[0m\n",
            "\u001b[?25h  Preparing metadata (setup.py) ... \u001b[?25l\u001b[?25hdone\n",
            "\u001b[2K     \u001b[90m━━━━━━━━━━━━━━━━━━━━━━━━━━━━━━━━━━━━━━━━\u001b[0m \u001b[32m2.0/2.0 MB\u001b[0m \u001b[31m62.7 MB/s\u001b[0m eta \u001b[36m0:00:00\u001b[0m\n",
            "\u001b[2K     \u001b[90m━━━━━━━━━━━━━━━━━━━━━━━━━━━━━━━━━━━━━━━━\u001b[0m \u001b[32m151.7/151.7 kB\u001b[0m \u001b[31m15.1 MB/s\u001b[0m eta \u001b[36m0:00:00\u001b[0m\n",
            "\u001b[2K     \u001b[90m━━━━━━━━━━━━━━━━━━━━━━━━━━━━━━━━━━━━━━━━\u001b[0m \u001b[32m45.6/45.6 kB\u001b[0m \u001b[31m4.7 MB/s\u001b[0m eta \u001b[36m0:00:00\u001b[0m\n",
            "\u001b[?25h  Preparing metadata (setup.py) ... \u001b[?25l\u001b[?25hdone\n",
            "\u001b[2K     \u001b[90m━━━━━━━━━━━━━━━━━━━━━━━━━━━━━━━━━━━━━━━━\u001b[0m \u001b[32m1.6/1.6 MB\u001b[0m \u001b[31m53.9 MB/s\u001b[0m eta \u001b[36m0:00:00\u001b[0m\n",
            "\u001b[2K     \u001b[90m━━━━━━━━━━━━━━━━━━━━━━━━━━━━━━━━━━━━━━━━\u001b[0m \u001b[32m151.7/151.7 kB\u001b[0m \u001b[31m16.8 MB/s\u001b[0m eta \u001b[36m0:00:00\u001b[0m\n",
            "\u001b[2K     \u001b[90m━━━━━━━━━━━━━━━━━━━━━━━━━━━━━━━━━━━━━━━━\u001b[0m \u001b[32m151.7/151.7 kB\u001b[0m \u001b[31m15.7 MB/s\u001b[0m eta \u001b[36m0:00:00\u001b[0m\n",
            "\u001b[2K     \u001b[90m━━━━━━━━━━━━━━━━━━━━━━━━━━━━━━━━━━━━━━━━\u001b[0m \u001b[32m147.4/147.4 kB\u001b[0m \u001b[31m16.7 MB/s\u001b[0m eta \u001b[36m0:00:00\u001b[0m\n",
            "\u001b[2K     \u001b[90m━━━━━━━━━━━━━━━━━━━━━━━━━━━━━━━━━━━━━━━━\u001b[0m \u001b[32m147.4/147.4 kB\u001b[0m \u001b[31m15.6 MB/s\u001b[0m eta \u001b[36m0:00:00\u001b[0m\n",
            "\u001b[2K     \u001b[90m━━━━━━━━━━━━━━━━━━━━━━━━━━━━━━━━━━━━━━━━\u001b[0m \u001b[32m147.4/147.4 kB\u001b[0m \u001b[31m15.2 MB/s\u001b[0m eta \u001b[36m0:00:00\u001b[0m\n",
            "\u001b[2K     \u001b[90m━━━━━━━━━━━━━━━━━━━━━━━━━━━━━━━━━━━━━━━━\u001b[0m \u001b[32m142.7/142.7 kB\u001b[0m \u001b[31m13.7 MB/s\u001b[0m eta \u001b[36m0:00:00\u001b[0m\n",
            "\u001b[2K     \u001b[90m━━━━━━━━━━━━━━━━━━━━━━━━━━━━━━━━━━━━━━━━\u001b[0m \u001b[32m142.7/142.7 kB\u001b[0m \u001b[31m14.7 MB/s\u001b[0m eta \u001b[36m0:00:00\u001b[0m\n",
            "\u001b[2K     \u001b[90m━━━━━━━━━━━━━━━━━━━━━━━━━━━━━━━━━━━━━━━━\u001b[0m \u001b[32m101.2/101.2 kB\u001b[0m \u001b[31m11.1 MB/s\u001b[0m eta \u001b[36m0:00:00\u001b[0m\n",
            "\u001b[2K     \u001b[90m━━━━━━━━━━━━━━━━━━━━━━━━━━━━━━━━━━━━━━━━\u001b[0m \u001b[32m83.6/83.6 kB\u001b[0m \u001b[31m9.9 MB/s\u001b[0m eta \u001b[36m0:00:00\u001b[0m\n",
            "\u001b[2K     \u001b[90m━━━━━━━━━━━━━━━━━━━━━━━━━━━━━━━━━━━━━━━━\u001b[0m \u001b[32m83.3/83.3 kB\u001b[0m \u001b[31m4.5 MB/s\u001b[0m eta \u001b[36m0:00:00\u001b[0m\n",
            "\u001b[2K     \u001b[90m━━━━━━━━━━━━━━━━━━━━━━━━━━━━━━━━━━━━━━━━\u001b[0m \u001b[32m83.4/83.4 kB\u001b[0m \u001b[31m4.8 MB/s\u001b[0m eta \u001b[36m0:00:00\u001b[0m\n",
            "\u001b[2K     \u001b[90m━━━━━━━━━━━━━━━━━━━━━━━━━━━━━━━━━━━━━━━━\u001b[0m \u001b[32m83.2/83.2 kB\u001b[0m \u001b[31m8.3 MB/s\u001b[0m eta \u001b[36m0:00:00\u001b[0m\n",
            "\u001b[2K     \u001b[90m━━━━━━━━━━━━━━━━━━━━━━━━━━━━━━━━━━━━━━━━\u001b[0m \u001b[32m82.5/82.5 kB\u001b[0m \u001b[31m8.8 MB/s\u001b[0m eta \u001b[36m0:00:00\u001b[0m\n",
            "\u001b[2K     \u001b[90m━━━━━━━━━━━━━━━━━━━━━━━━━━━━━━━━━━━━━━━━\u001b[0m \u001b[32m81.0/81.0 kB\u001b[0m \u001b[31m7.3 MB/s\u001b[0m eta \u001b[36m0:00:00\u001b[0m\n",
            "\u001b[2K     \u001b[90m━━━━━━━━━━━━━━━━━━━━━━━━━━━━━━━━━━━━━━━━\u001b[0m \u001b[32m81.0/81.0 kB\u001b[0m \u001b[31m8.9 MB/s\u001b[0m eta \u001b[36m0:00:00\u001b[0m\n",
            "\u001b[2K     \u001b[90m━━━━━━━━━━━━━━━━━━━━━━━━━━━━━━━━━━━━━━━━\u001b[0m \u001b[32m80.8/80.8 kB\u001b[0m \u001b[31m8.8 MB/s\u001b[0m eta \u001b[36m0:00:00\u001b[0m\n",
            "\u001b[2K     \u001b[90m━━━━━━━━━━━━━━━━━━━━━━━━━━━━━━━━━━━━━━━━\u001b[0m \u001b[32m80.7/80.7 kB\u001b[0m \u001b[31m8.4 MB/s\u001b[0m eta \u001b[36m0:00:00\u001b[0m\n",
            "\u001b[2K     \u001b[90m━━━━━━━━━━━━━━━━━━━━━━━━━━━━━━━━━━━━━━━━\u001b[0m \u001b[32m81.5/81.5 kB\u001b[0m \u001b[31m9.0 MB/s\u001b[0m eta \u001b[36m0:00:00\u001b[0m\n",
            "\u001b[2K     \u001b[90m━━━━━━━━━━━━━━━━━━━━━━━━━━━━━━━━━━━━━━━━\u001b[0m \u001b[32m90.4/90.4 kB\u001b[0m \u001b[31m8.9 MB/s\u001b[0m eta \u001b[36m0:00:00\u001b[0m\n",
            "\u001b[2K     \u001b[90m━━━━━━━━━━━━━━━━━━━━━━━━━━━━━━━━━━━━━━━━\u001b[0m \u001b[32m117.7/117.7 kB\u001b[0m \u001b[31m10.3 MB/s\u001b[0m eta \u001b[36m0:00:00\u001b[0m\n",
            "\u001b[2K     \u001b[90m━━━━━━━━━━━━━━━━━━━━━━━━━━━━━━━━━━━━━━━━\u001b[0m \u001b[32m60.6/60.6 kB\u001b[0m \u001b[31m5.9 MB/s\u001b[0m eta \u001b[36m0:00:00\u001b[0m\n",
            "\u001b[2K     \u001b[90m━━━━━━━━━━━━━━━━━━━━━━━━━━━━━━━━━━━━━━━━\u001b[0m \u001b[32m71.5/71.5 kB\u001b[0m \u001b[31m7.8 MB/s\u001b[0m eta \u001b[36m0:00:00\u001b[0m\n",
            "\u001b[2K     \u001b[90m━━━━━━━━━━━━━━━━━━━━━━━━━━━━━━━━━━━━━━━━\u001b[0m \u001b[32m98.7/98.7 kB\u001b[0m \u001b[31m10.3 MB/s\u001b[0m eta \u001b[36m0:00:00\u001b[0m\n",
            "\u001b[2K     \u001b[90m━━━━━━━━━━━━━━━━━━━━━━━━━━━━━━━━━━━━━━━━\u001b[0m \u001b[32m1.7/1.7 MB\u001b[0m \u001b[31m63.9 MB/s\u001b[0m eta \u001b[36m0:00:00\u001b[0m\n",
            "\u001b[2K     \u001b[90m━━━━━━━━━━━━━━━━━━━━━━━━━━━━━━━━━━━━━━━━\u001b[0m \u001b[32m116.4/116.4 kB\u001b[0m \u001b[31m12.1 MB/s\u001b[0m eta \u001b[36m0:00:00\u001b[0m\n",
            "\u001b[2K     \u001b[90m━━━━━━━━━━━━━━━━━━━━━━━━━━━━━━━━━━━━━━━━\u001b[0m \u001b[32m69.6/69.6 kB\u001b[0m \u001b[31m7.7 MB/s\u001b[0m eta \u001b[36m0:00:00\u001b[0m\n",
            "\u001b[2K     \u001b[90m━━━━━━━━━━━━━━━━━━━━━━━━━━━━━━━━━━━━━━━━\u001b[0m \u001b[32m526.7/526.7 kB\u001b[0m \u001b[31m41.2 MB/s\u001b[0m eta \u001b[36m0:00:00\u001b[0m\n",
            "\u001b[2K     \u001b[90m━━━━━━━━━━━━━━━━━━━━━━━━━━━━━━━━━━━━━━━━\u001b[0m \u001b[32m58.3/58.3 kB\u001b[0m \u001b[31m5.8 MB/s\u001b[0m eta \u001b[36m0:00:00\u001b[0m\n",
            "\u001b[?25h  Building wheel for lark (setup.py) ... \u001b[?25l\u001b[?25hdone\n",
            "  Building wheel for rpcq (setup.py) ... \u001b[?25l\u001b[?25hdone\n",
            "\u001b[31mERROR: pip's dependency resolver does not currently take into account all the packages that are installed. This behaviour is the source of the following dependency conflicts.\n",
            "lida 0.0.10 requires fastapi, which is not installed.\n",
            "lida 0.0.10 requires kaleido, which is not installed.\n",
            "lida 0.0.10 requires python-multipart, which is not installed.\n",
            "lida 0.0.10 requires uvicorn, which is not installed.\n",
            "referencing 0.30.2 requires attrs>=22.2.0, but you have attrs 21.4.0 which is incompatible.\u001b[0m\u001b[31m\n",
            "\u001b[0mLibraries imported successfully!\n"
          ]
        }
      ]
    },
    {
      "cell_type": "markdown",
      "source": [
        "<a name=\"p1\"></a>\n",
        "\n",
        "---\n",
        "## **Part 1: Review**\n",
        "---"
      ],
      "metadata": {
        "id": "eLTa5clvET-E"
      }
    },
    {
      "cell_type": "markdown",
      "source": [
        "### **Problem #1.1**\n",
        "Create a list with the entries \"red\" and \"yellow\"."
      ],
      "metadata": {
        "id": "VTPE925KFyX_"
      }
    },
    {
      "cell_type": "code",
      "source": [
        "color_list = [\"red\", \"yellow\"]"
      ],
      "metadata": {
        "id": "EhSlWEHXp-qu"
      },
      "execution_count": null,
      "outputs": []
    },
    {
      "cell_type": "markdown",
      "source": [
        "### **Problem #1.2**\n",
        "\n",
        "Add the string \"orange\" to `color_list`. Output your list."
      ],
      "metadata": {
        "id": "xzj7-kFaD2oO"
      }
    },
    {
      "cell_type": "code",
      "source": [
        "color_list.append(\"orange\")\n",
        "color_list"
      ],
      "metadata": {
        "id": "i9onONZbENSv",
        "colab": {
          "base_uri": "https://localhost:8080/"
        },
        "outputId": "91adf09f-ce64-4fda-f5b8-b11fbc98e138"
      },
      "execution_count": null,
      "outputs": [
        {
          "output_type": "execute_result",
          "data": {
            "text/plain": [
              "['red', 'yellow', 'orange']"
            ]
          },
          "metadata": {},
          "execution_count": 4
        }
      ]
    },
    {
      "cell_type": "markdown",
      "source": [
        "### **Problem #1.3**\n",
        "\n",
        "Output the final entry from `my list`."
      ],
      "metadata": {
        "id": "EPSRoBHfGiT4"
      }
    },
    {
      "cell_type": "code",
      "source": [
        "my_list = [1,2,3,4,5,6,7,8,9,10]\n",
        "my_list[len(my_list)-1]"
      ],
      "metadata": {
        "id": "WEK24LPcG3YQ",
        "colab": {
          "base_uri": "https://localhost:8080/"
        },
        "outputId": "4895b4a0-1313-4fb4-d89b-ea047bf4df6f"
      },
      "execution_count": null,
      "outputs": [
        {
          "output_type": "execute_result",
          "data": {
            "text/plain": [
              "10"
            ]
          },
          "metadata": {},
          "execution_count": 6
        }
      ]
    },
    {
      "cell_type": "markdown",
      "source": [
        "### **Problem #1.4**\n",
        "\n",
        "Create a qubit, create an empty circuit, add a measurement to your circuit, and output the circuit."
      ],
      "metadata": {
        "id": "LAfw8JHwmWGy"
      }
    },
    {
      "cell_type": "code",
      "source": [
        "q0 = cirq.NamedQubit(\"q1\")\n",
        "circuit = cirq.Circuit()\n",
        "circuit.append(cirq.measure(q0))\n",
        "circuit"
      ],
      "metadata": {
        "id": "MWypKbHPIHKV",
        "colab": {
          "base_uri": "https://localhost:8080/",
          "height": 34
        },
        "outputId": "058e4d70-9b22-45c2-ecc9-f5d88ca38bc2"
      },
      "execution_count": null,
      "outputs": [
        {
          "output_type": "execute_result",
          "data": {
            "text/plain": [
              "q1: ───M───"
            ],
            "text/html": [
              "<pre style=\"overflow: auto; white-space: pre;\">q1: ───M───</pre>"
            ]
          },
          "metadata": {},
          "execution_count": 7
        }
      ]
    },
    {
      "cell_type": "markdown",
      "source": [
        "### **Problem #1.5**\n",
        "\n",
        "Simulate the results of `my_circuit`."
      ],
      "metadata": {
        "id": "yiutSPq9oEj4"
      }
    },
    {
      "cell_type": "code",
      "source": [
        "simulator = cirq.Simulator()\n",
        "results = simulator.run(circuit)\n",
        "results"
      ],
      "metadata": {
        "id": "scfQoC2CpVIf",
        "colab": {
          "base_uri": "https://localhost:8080/"
        },
        "outputId": "cf80e48e-f440-46f7-94dc-c64baab33c0a"
      },
      "execution_count": null,
      "outputs": [
        {
          "output_type": "execute_result",
          "data": {
            "text/plain": [
              "q1=0"
            ]
          },
          "metadata": {},
          "execution_count": 9
        }
      ]
    },
    {
      "cell_type": "markdown",
      "source": [
        "<a name=\"p2\"></a>\n",
        "\n",
        "---\n",
        "## **Part 2: Quantum Circuits in Cirq**\n",
        "---"
      ],
      "metadata": {
        "id": "qQhufAKtE0NT"
      }
    },
    {
      "cell_type": "markdown",
      "source": [
        "### **Problem #2.1**\n",
        "\n",
        "**Together:**\n",
        "1. Create a qubit with label ``\"q0\"``.\n",
        "2. Create an empty quantum circuit.\n",
        "3. Append the qubit you created to the empty quantum circuit with an **X gate** applied to it.\n",
        "4. Then print out the circuit.\n",
        "5. Print out the final state vector, dirac notation and bloch sphere representations of the qubit in the circuit."
      ],
      "metadata": {
        "id": "0GIFhqummZcf"
      }
    },
    {
      "cell_type": "code",
      "source": [
        "q0 = cirq.NamedQubit(\"q0\")\n",
        "\n",
        "# Create an empty quantum circuit\n",
        "circuit = cirq.Circuit()\n",
        "\n",
        "# Append the qubit you created to the empty quantum circuit with an X gate applied to it\n",
        "circuit.append(cirq.X(q0))\n",
        "\n",
        "# Print out the circuit\n",
        "print(circuit)\n",
        "\n",
        "# Print out the final state vector, Dirac notation, and Bloch sphere representations of the qubit in the circuit\n",
        "# print(circuit)\n",
        "# print(cirq.dirac_notation(circuit))\n",
        "# print(cirq.bloch_diagram(circuit, qubit_order=[q0]))"
      ],
      "metadata": {
        "id": "iFwmYTaui4YY",
        "colab": {
          "base_uri": "https://localhost:8080/"
        },
        "outputId": "141aa603-72b4-41eb-f9ec-336098aca248"
      },
      "execution_count": null,
      "outputs": [
        {
          "output_type": "stream",
          "name": "stdout",
          "text": [
            "q0: ───X───\n"
          ]
        }
      ]
    },
    {
      "cell_type": "code",
      "source": [
        "state_vector = cirq.final_state_vector(circuit)\n",
        "# ket = cirq.dirac_notation( state_vector= circuit)# COMPLETE THIS CODE\n",
        "# print( ket )\n",
        "\n",
        "# cirq_web.bloch_sphere.BlochSphere( state_vector= circuit) # COMPLETE THIS CODE\n",
        "state_vector"
      ],
      "metadata": {
        "id": "UD-SoY-joWLP",
        "colab": {
          "base_uri": "https://localhost:8080/"
        },
        "outputId": "4cdcedcc-dc3e-49c4-a94c-d4620b0b41fb"
      },
      "execution_count": null,
      "outputs": [
        {
          "output_type": "execute_result",
          "data": {
            "text/plain": [
              "array([0.+0.j, 1.+0.j], dtype=complex64)"
            ]
          },
          "metadata": {},
          "execution_count": 19
        }
      ]
    },
    {
      "cell_type": "code",
      "source": [
        "simulator = cirq.Simulator()\n",
        "circuit.append(cirq.measure(q0))\n",
        "results = simulator.run(circuit)\n",
        "results"
      ],
      "metadata": {
        "id": "mtkmhKU6pT_y",
        "colab": {
          "base_uri": "https://localhost:8080/"
        },
        "outputId": "2e7a9482-d733-4301-a1b6-efd7fddd922c"
      },
      "execution_count": null,
      "outputs": [
        {
          "output_type": "execute_result",
          "data": {
            "text/plain": [
              "q0=1"
            ]
          },
          "metadata": {},
          "execution_count": 21
        }
      ]
    },
    {
      "cell_type": "markdown",
      "source": [
        "### **Problem #2.2**\n",
        "\n",
        "**Independently**\n",
        "1. Create a qubit with label ``\"q0\"``.\n",
        "2. Create an empty quantum circuit.\n",
        "3. Append the qubit you created to the empty quantum circuit with an **H gate** applied to it.\n",
        "4. Then print out the circuit.\n",
        "5. Print out the state vector, dirac notation, and bloch sphere of the qubit in the quantum circuit."
      ],
      "metadata": {
        "id": "5rTf-Oonol5-"
      }
    },
    {
      "cell_type": "code",
      "source": [
        "q0 = cirq.NamedQubit(\"q0\")\n",
        "circuit = cirq.Circuit()\n",
        "circuit.append(cirq.H(q0))\n",
        "print(circuit)"
      ],
      "metadata": {
        "id": "VMq5C5iji8dx",
        "colab": {
          "base_uri": "https://localhost:8080/"
        },
        "outputId": "862c38b2-dc89-4cea-9fb9-e8ce6f0708c9"
      },
      "execution_count": null,
      "outputs": [
        {
          "output_type": "stream",
          "name": "stdout",
          "text": [
            "q0: ───H───\n"
          ]
        }
      ]
    },
    {
      "cell_type": "code",
      "source": [
        "state_vector = cirq.final_state_vector( circuit )\n",
        "# ket = cirq.dirac_notation( state_vector= # COMPLETE THIS CODE\n",
        "# print( # COMPLETE THIS CODE\n",
        "\n",
        "# cirq_web.bloch_sphere.BlochSphere( state_vector= # COMPLETE THIS CODE\n",
        "state_vector"
      ],
      "metadata": {
        "id": "5xrYX5OQowa8",
        "colab": {
          "base_uri": "https://localhost:8080/"
        },
        "outputId": "05be6387-a73e-469f-8c12-5a65fc98dbf2"
      },
      "execution_count": null,
      "outputs": [
        {
          "output_type": "execute_result",
          "data": {
            "text/plain": [
              "array([0.70710677+0.j, 0.70710677+0.j], dtype=complex64)"
            ]
          },
          "metadata": {},
          "execution_count": 41
        }
      ]
    },
    {
      "cell_type": "markdown",
      "source": [
        "### **Problem #2.3**\n",
        "\n",
        "Append a measurement to your circuit in Problem #2.2. Simulate the results of your circuit. How does this compare to the final state vector in Problem #2.2?"
      ],
      "metadata": {
        "id": "YXLIxX2uq4-A"
      }
    },
    {
      "cell_type": "code",
      "source": [
        "simulator = cirq.Simulator()\n",
        "circuit.append(cirq.measure(q0))\n",
        "results = simulator.run(circuit)\n",
        "results"
      ],
      "metadata": {
        "id": "8ytN-Lq7jCQH",
        "colab": {
          "base_uri": "https://localhost:8080/"
        },
        "outputId": "19bc67cd-331b-45aa-d463-38b0483ad701"
      },
      "execution_count": null,
      "outputs": [
        {
          "output_type": "execute_result",
          "data": {
            "text/plain": [
              "q0=0"
            ]
          },
          "metadata": {},
          "execution_count": 24
        }
      ]
    },
    {
      "cell_type": "markdown",
      "source": [
        "<a name=\"p3\"></a>\n",
        "\n",
        "---\n",
        "## **Part 3: Multiple Gates**\n",
        "---\n"
      ],
      "metadata": {
        "id": "gr_gKZmN0or_"
      }
    },
    {
      "cell_type": "markdown",
      "source": [
        "### **Problem #3.1**\n",
        "\n",
        "**Together:**\n",
        "1. Create a qubit with label ``\"q0\"``\n",
        "2. Create an empty quantum circuit.\n",
        "3. Append the qubit you created to the empty quantum circuit with an **Z gate** applied to it.\n",
        "4. Apply another **Z gate** to the qubit.\n",
        "5. Then print out the circuit.\n",
        "6. Print out the state vector, dirac notation, and bloch sphere of the qubit in the quantum circuit."
      ],
      "metadata": {
        "id": "se8TXAIHApfT"
      }
    },
    {
      "cell_type": "code",
      "source": [
        "# Create a qubit with the label \"q0\"\n",
        "q = cirq.NamedQubit(\"q0\")\n",
        "\n",
        "# Create an empty quantum circuit\n",
        "circuit = cirq.Circuit()\n",
        "\n",
        "# Append the qubit to the empty circuit with a Z gate applied to it\n",
        "circuit.append(cirq.Z(q))\n",
        "\n",
        "# Apply another Z gate to the qubit\n",
        "circuit.append(cirq.Z(q))\n",
        "\n",
        "# Print the circuit\n",
        "print(circuit)\n",
        "\n",
        "# Print the state vector, dirac notation, and Bloch sphere of the qubit in the circuit\n",
        "print(cirq.final_state_vector(circuit))\n",
        "# print(cirq.dirac_notation(circuit))\n",
        "# print(cirq.bloch_diagram(circuit))\n"
      ],
      "metadata": {
        "id": "MzSNeebjjHkg",
        "colab": {
          "base_uri": "https://localhost:8080/"
        },
        "outputId": "afd5c973-8f31-4b7f-97c7-49c7b16104bd"
      },
      "execution_count": null,
      "outputs": [
        {
          "output_type": "stream",
          "name": "stdout",
          "text": [
            "q0: ───Z───Z───\n",
            "[1.+0.j 0.+0.j]\n"
          ]
        }
      ]
    },
    {
      "cell_type": "markdown",
      "source": [
        "### **Problem #3.2**\n",
        "\n",
        "**Together:**\n",
        "1. Create a qubit with label ``\"q0\"``\n",
        "2. Create an empty quantum circuit.\n",
        "3. Append the qubit you created to the empty quantum circuit with an **Z gate** applied to it.\n",
        "4. Apply an **H gate** to the qubit.\n",
        "5. Then print out the circuit.\n",
        "6. Print out the state vector, dirac notation, and bloch sphere of the qubit in the quantum circuit.\n",
        "\n"
      ],
      "metadata": {
        "id": "c7HsS0ckCH79"
      }
    },
    {
      "cell_type": "code",
      "source": [
        "q = cirq.NamedQubit(\"q0\")\n",
        "circuit = cirq.Circuit()\n",
        "circuit.append(cirq.Z(q))\n",
        "circuit.append(cirq.H(q))\n",
        "print(circuit)\n",
        "print(cirq.final_state_vector(circuit))\n",
        "# print(cirq.dirac_notation(circuit))\n",
        "# print(cirq.bloch_diagram(circuit))\n"
      ],
      "metadata": {
        "id": "uXRCpUuHjU7-",
        "colab": {
          "base_uri": "https://localhost:8080/"
        },
        "outputId": "7e45bbd1-e2f3-457c-d784-da3230abf406"
      },
      "execution_count": null,
      "outputs": [
        {
          "output_type": "stream",
          "name": "stdout",
          "text": [
            "q0: ───Z───H───\n",
            "[0.70710677+0.j 0.70710677+0.j]\n"
          ]
        }
      ]
    },
    {
      "cell_type": "markdown",
      "source": [
        "### **Problem #3.3**\n",
        "\n",
        "**Independently:**\n",
        "1. Create a qubit with label ``\"q0\"``\n",
        "2. Create an empty quantum circuit.\n",
        "3. Append the qubit you created to the empty quantum circuit with an **H gate** applied to it.\n",
        "4. Apply a **Z gate** to the qubit.\n",
        "5. Then print out the circuit.\n",
        "6. Print out the state vector, dirac notation, and bloch sphere of the qubit in the quantum circuit."
      ],
      "metadata": {
        "id": "nona3DpFCSz1"
      }
    },
    {
      "cell_type": "code",
      "source": [
        "q = cirq.NamedQubit(\"q0\")\n",
        "circuit = cirq.Circuit()\n",
        "circuit.append(cirq.H(q))\n",
        "circuit.append(cirq.Z(q))\n",
        "print(circuit)\n",
        "print(cirq.final_state_vector(circuit))\n",
        "# print(cirq.dirac_notation(circuit))\n",
        "# print(cirq.bloch_diagram(circuit))\n"
      ],
      "metadata": {
        "id": "2zlopMI5jZLI",
        "colab": {
          "base_uri": "https://localhost:8080/"
        },
        "outputId": "7cdb06ea-58e1-4c8a-b311-a84c05c11cac"
      },
      "execution_count": null,
      "outputs": [
        {
          "output_type": "stream",
          "name": "stdout",
          "text": [
            "q0: ───H───Z───\n",
            "[ 0.70710677+0.j -0.70710677+0.j]\n"
          ]
        }
      ]
    },
    {
      "cell_type": "markdown",
      "source": [
        "### **Problem #3.4**\n",
        "\n",
        "\n",
        "**Independently:**\n",
        "1. Create a qubit with label ``\"q0\"``\n",
        "2. Create an empty quantum circuit.\n",
        "3. Append the qubit you created to the empty quantum circuit with an **H gate** applied to it.\n",
        "4. Apply an **X gate** to the qubit.\n",
        "5. Apply a **Z gate** to the qubit.\n",
        "6. Apply an **H gate** to the qubit.\n",
        "7. Then print out the circuit.\n",
        "8. Print out the state vector, dirac notation, and bloch sphere of the qubit in the quantum circuit."
      ],
      "metadata": {
        "id": "xq3yQCV9VMxf"
      }
    },
    {
      "cell_type": "code",
      "source": [
        "q = cirq.NamedQubit(\"q0\")\n",
        "circuit = cirq.Circuit()\n",
        "circuit.append(cirq.H(q))\n",
        "circuit.append(cirq.X(q))\n",
        "circuit.append(cirq.Z(q))\n",
        "circuit.append(cirq.H(q))\n",
        "print(circuit)\n",
        "print(cirq.final_state_vector(circuit))\n",
        "# print(cirq.dirac_notation(circuit))\n",
        "# print(cirq.bloch_diagram(circuit))\n"
      ],
      "metadata": {
        "id": "DXsIF9LXjfmZ",
        "colab": {
          "base_uri": "https://localhost:8080/"
        },
        "outputId": "408e21ab-f226-4cf8-d75d-ec63b76f86d6"
      },
      "execution_count": null,
      "outputs": [
        {
          "output_type": "stream",
          "name": "stdout",
          "text": [
            "q0: ───H───X───Z───H───\n",
            "[0.        +0.j 0.99999994+0.j]\n"
          ]
        }
      ]
    },
    {
      "cell_type": "markdown",
      "source": [
        "#End of notebook\n",
        "---\n",
        "© 2023 The Coding School, All rights reserved"
      ],
      "metadata": {
        "id": "peBEUJNo0x7t"
      }
    }
  ]
}